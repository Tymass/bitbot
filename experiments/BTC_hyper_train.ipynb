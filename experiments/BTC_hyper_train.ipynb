{
  "cells": [
    {
      "cell_type": "markdown",
      "metadata": {
        "id": "B16JkpDOwwqD"
      },
      "source": [
        "# INSTALLATIONS DATA ACQUISITION AND IMPORTS"
      ]
    },
    {
      "cell_type": "code",
      "execution_count": null,
      "metadata": {
        "id": "EiqcfwLb8A0w"
      },
      "outputs": [],
      "source": [
        "! pip install -q kaggle\n",
        "! kaggle datasets download -qd swaptr/bitcoin-historical-data\n",
        "! mkdir btc && unzip -q bitcoin-historical-data.zip -d btc"
      ]
    },
    {
      "cell_type": "code",
      "execution_count": null,
      "metadata": {
        "collapsed": true,
        "id": "fHeqyH7QvX2m"
      },
      "outputs": [],
      "source": [
        "! pip install -q neuralforecast"
      ]
    },
    {
      "cell_type": "code",
      "source": [
        "! pip install -q cmaes\n",
        "! pip install -q hpbandster ConfigSpace\n",
        "! pip install -q ax-platform sqlalchemy"
      ],
      "metadata": {
        "id": "orps8Olss4m2",
        "collapsed": true
      },
      "execution_count": null,
      "outputs": []
    },
    {
      "cell_type": "code",
      "execution_count": null,
      "metadata": {
        "collapsed": true,
        "id": "3sM9QfVODwtX"
      },
      "outputs": [],
      "source": [
        "#!pip install -q git+https://github.com/Nixtla/neuralforecast.git@feature/kan-experiment"
      ]
    },
    {
      "cell_type": "code",
      "execution_count": null,
      "metadata": {
        "id": "HxLKjnJ4AHFx"
      },
      "outputs": [],
      "source": [
        "import pandas as pd\n",
        "import numpy as np\n",
        "import torch\n",
        "import matplotlib.pyplot as plt\n",
        "\n",
        "from utilsforecast.losses import mae, smape\n",
        "from utilsforecast.evaluation import evaluate\n",
        "\n",
        "from neuralforecast import NeuralForecast\n",
        "from neuralforecast.auto import AutoTFT, AutoLSTM, AutoNBEATS, AutoBiTCN, AutoTimesNet, AutoDeepAR\n",
        "from neuralforecast.losses.pytorch import MAE\n",
        "\n",
        "from sklearn.metrics import mean_absolute_error, mean_squared_error\n",
        "from sklearn.preprocessing import StandardScaler\n",
        "\n",
        "from ray import tune\n",
        "from ray.tune.search.bayesopt import BayesOptSearch\n",
        "import optuna"
      ]
    },
    {
      "cell_type": "markdown",
      "metadata": {
        "id": "Byl6FqEoxAFF"
      },
      "source": [
        "# DATA PREPROCESSING\n",
        "\n",
        "this preprocessing needs to be equal in both training and evaluation."
      ]
    },
    {
      "cell_type": "code",
      "execution_count": null,
      "metadata": {
        "collapsed": true,
        "id": "htzHn6VclzuF"
      },
      "outputs": [],
      "source": [
        "data = pd.read_csv('btc/data.csv')\n",
        "\n",
        "# how much further we forecast\n",
        "horizon = 5\n",
        "\n",
        "# crop BTC data\n",
        "invalid_date = '2017-01-01 00:00:00'\n",
        "index = data.index[data['Date'] == invalid_date].tolist()\n",
        "\n",
        "df = data.truncate(after=index[0])\n",
        "df = df[['Date', 'Close']]\n",
        "df = df.sort_values(\"Date\", ascending=True)\n",
        "df['Date'] = pd.to_datetime(df['Date'])\n",
        "\n",
        "# scale data\n",
        "scaler = StandardScaler()\n",
        "\n",
        "# split data on train/valid and test sets (test set should be relatively small)\n",
        "train_size = 0.95\n",
        "split_index = int(df.shape[0] * train_size)\n",
        "\n",
        "df['Close'] = scaler.fit_transform(df[['Close']])\n",
        "\n",
        "split_value = len(df) - split_index\n",
        "test = df.tail(split_value)\n",
        "train = df.head(split_index)\n",
        "\n",
        "# change data format for NeuralForecast\n",
        "train.rename(columns={'Date': 'ds', 'Close': 'y'}, inplace=True)\n",
        "test.rename(columns={'Date': 'ds', 'Close': 'y'}, inplace=True)\n",
        "\n",
        "train['unique_id'] = 1\n",
        "test['unique_id'] = 1"
      ]
    },
    {
      "cell_type": "code",
      "execution_count": null,
      "metadata": {
        "colab": {
          "base_uri": "https://localhost:8080/",
          "height": 448
        },
        "id": "fdQIuwru-L8L",
        "outputId": "e49f66d5-f416-46d4-8551-18fb21651480"
      },
      "outputs": [
        {
          "output_type": "display_data",
          "data": {
            "text/plain": [
              "<Figure size 640x480 with 1 Axes>"
            ],
            "image/png": "[encoded data removed]"
          },
          "metadata": {}
        }
      ],
      "source": [
        "# plot scaled dataset\n",
        "\n",
        "plt.plot(range(0,len(train)), train['y'], label='Train set')\n",
        "plt.plot(range(len(train), len(train)+len(test)), test['y'], label='Test set')\n",
        "plt.legend()\n",
        "plt.show()"
      ]
    },
    {
      "cell_type": "markdown",
      "metadata": {
        "id": "koaKfnXFxXVx"
      },
      "source": [
        "# AutoModels CONFIGS\n",
        "\n",
        "Based on source code from [here](https://github.com/Nixtla/neuralforecast/blob/main/neuralforecast/auto.py#L1109) ."
      ]
    },
    {
      "cell_type": "code",
      "execution_count": null,
      "metadata": {
        "id": "--sEkBvwpCo2"
      },
      "outputs": [],
      "source": [
        "# LSTM\n",
        "lstm_config = {\n",
        "        \"input_size_multiplier\": [-1, 4, 16, 32],\n",
        "        \"inference_input_size_multiplier\": [-1],\n",
        "        \"h\": None,\n",
        "        \"encoder_hidden_size\": tune.choice([50, 100, 200]),\n",
        "        \"encoder_n_layers\": tune.randint(1, 2),\n",
        "        \"context_size\": tune.choice([5, 10, 30]),\n",
        "        \"decoder_hidden_size\": tune.choice([64, 128, 256]),\n",
        "        \"learning_rate\": tune.loguniform(1e-4, 1e-2),\n",
        "        \"max_steps\": tune.choice([500, 1000, 1500]),\n",
        "        \"batch_size\": tune.choice([8, 16]),\n",
        "        \"loss\": None,\n",
        "        \"random_seed\": tune.randint(1, 20),\n",
        "    }\n",
        "\n",
        "# BiTCN\n",
        "bitcn_config = {\n",
        "        \"input_size_multiplier\": [1, 2, 3, 4, 5],\n",
        "        \"h\": None,\n",
        "        \"hidden_size\": tune.choice([16, 32]),\n",
        "        \"dropout\": tune.uniform(0.0, 0.99),\n",
        "        \"learning_rate\": tune.loguniform(1e-4, 1e-1),\n",
        "        \"scaler_type\": tune.choice([None, \"robust\", \"standard\"]),\n",
        "        \"max_steps\": tune.choice([500, 1000, 2000]),\n",
        "        \"batch_size\": tune.choice([32, 64, 128, 256]),\n",
        "        \"windows_batch_size\": tune.choice([128, 256, 512, 1024]),\n",
        "        \"loss\": None,\n",
        "        \"random_seed\": tune.randint(1, 20),\n",
        "    }\n",
        "\n",
        "\n",
        "# TFT\n",
        "tft_config = {\n",
        "        \"input_size_multiplier\": [1, 2, 3, 4, 5],\n",
        "        \"h\": None,\n",
        "        \"hidden_size\": tune.choice([64, 128, 256]),\n",
        "        \"n_head\": tune.choice([4, 8]),\n",
        "        \"learning_rate\": tune.loguniform(1e-4, 1e-1),\n",
        "        \"scaler_type\": tune.choice([None, \"robust\", \"standard\"]),\n",
        "        \"max_steps\": tune.choice([500, 1000, 2000]),\n",
        "        \"batch_size\": tune.choice([32, 64, 128, 256]),\n",
        "        \"windows_batch_size\": tune.choice([128, 256, 512, 1024]),\n",
        "        \"loss\": None,\n",
        "        \"random_seed\": tune.randint(1, 20),\n",
        "    }\n",
        "\n",
        "\n",
        "# NBEATS\n",
        "nbeats_config = {\n",
        "        \"input_size_multiplier\": [1, 2, 3, 4, 5],\n",
        "        \"h\": None,\n",
        "        \"learning_rate\": tune.loguniform(1e-4, 1e-1),\n",
        "        \"scaler_type\": tune.choice([None, \"robust\", \"standard\"]),\n",
        "        \"max_steps\": tune.choice([500, 1000]),\n",
        "        \"batch_size\": tune.choice([32, 64, 128, 256]),\n",
        "        \"windows_batch_size\": tune.choice([128, 256, 512, 1024]),\n",
        "        \"loss\": None,\n",
        "        \"random_seed\": tune.randint(1, 20),\n",
        "    }\n",
        "\n",
        "\n",
        "def get_config(config, h):\n",
        "        config_copy = config.copy()\n",
        "        config_copy[\"input_size\"] = tune.choice(\n",
        "            [h * x for x in config_copy[\"input_size_multiplier\"]]\n",
        "        )\n",
        "        config_copy[\"step_size\"] = tune.choice([1, h])\n",
        "        del config_copy[\"input_size_multiplier\"]\n",
        "\n",
        "        return config_copy\n",
        "\n",
        "\n",
        "def get_lstm_config(config, h):\n",
        "        config_copy = config.copy()\n",
        "        config_copy[\"input_size\"] = tune.choice(\n",
        "            [h * x for x in config_copy[\"input_size_multiplier\"]]\n",
        "        )\n",
        "        config_copy[\"inference_input_size\"] = tune.choice(\n",
        "            [h * x for x in config_copy[\"inference_input_size_multiplier\"]]\n",
        "        )\n",
        "        del config_copy[\"input_size_multiplier\"], config_copy[\"inference_input_size_multiplier\"]\n",
        "\n",
        "        return config_copy"
      ]
    },
    {
      "cell_type": "markdown",
      "metadata": {
        "id": "mOR3mwLmxeiV"
      },
      "source": [
        "# MODELS PREPARATION AND TRAINING"
      ]
    },
    {
      "cell_type": "code",
      "execution_count": null,
      "metadata": {
        "id": "rkrd0HfT10Da"
      },
      "outputs": [],
      "source": [
        "lstm = AutoLSTM(\n",
        "    horizon,\n",
        "    loss=MAE(),\n",
        "    config=get_lstm_config(lstm_config, horizon),\n",
        "    search_alg=tune.search.BasicVariantGenerator(),\n",
        "    num_samples=35,\n",
        "    backend=\"ray\",\n",
        ")\n",
        "\n",
        "bitcn = AutoBiTCN(\n",
        "    horizon,\n",
        "    loss=MAE(),\n",
        "    config=None,\n",
        "    search_alg=optuna.samplers.TPESampler(multivariate=True),\n",
        "    num_samples=100,\n",
        "    backend=\"optuna\",\n",
        ")\n",
        "\n",
        "nbeats = AutoNBEATS(\n",
        "    horizon,\n",
        "    loss=MAE(),\n",
        "    config=None,\n",
        "    search_alg=optuna.samplers.TPESampler(multivariate=True),\n",
        "    num_samples=20,\n",
        "    backend=\"optuna\",\n",
        ")\n",
        "\n",
        "tft = AutoTFT(\n",
        "    horizon,\n",
        "    loss=MAE(),\n",
        "    config=None,\n",
        "    search_alg=optuna.samplers.TPESampler(multivariate=True),\n",
        "    num_samples=100,\n",
        "    backend=\"optuna\",\n",
        ")\n"
      ]
    },
    {
      "cell_type": "code",
      "execution_count": null,
      "metadata": {
        "id": "XYPa25syqABb"
      },
      "outputs": [],
      "source": [
        "# thus training with hyperparameters optimization is long we perform one model at time\n",
        "\n",
        "models = [\n",
        "    bitcn,\n",
        "]"
      ]
    },
    {
      "cell_type": "markdown",
      "metadata": {
        "id": "F3ZnhiT5z4Go"
      },
      "source": [
        "## Pandas aliases"
      ]
    },
    {
      "cell_type": "markdown",
      "metadata": {
        "id": "70GYD4ljzukF"
      },
      "source": [
        "![image.png](data:image/png;base64,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)"
      ]
    },
    {
      "cell_type": "code",
      "execution_count": null,
      "metadata": {
        "id": "EWLYXWsEygks",
        "collapsed": true
      },
      "outputs": [],
      "source": [
        "# perform training\n",
        "\n",
        "torch.cuda.empty_cache()\n",
        "\n",
        "nf = NeuralForecast(models=models, freq='T')\n",
        "nf.fit(train, val_size=2*horizon)"
      ]
    },
    {
      "cell_type": "markdown",
      "metadata": {
        "id": "W5oWPaITyNbZ"
      },
      "source": [
        "\n",
        "# PREDICTINOS AND RESOULTS VISUALIZATION\n",
        "\n",
        "##BEST TRAINING CONFIGURATIONS (so far)\n",
        "\n",
        "### TFT:\n",
        "AFTER: 66 TRIALS\n",
        "\n",
        "{'hidden_size': 64, 'n_head': 4, 'learning_rate': 0.08827186143004465, 'scaler_type': 'standard', 'max_steps': 1000, 'batch_size': 64, 'windows_batch_size': 1024, 'random_seed': 11, 'input_size': 20, 'step_size': 5}\n",
        "### BiTCN:\n",
        "AFTER: 46 TRIALS\n",
        "\n",
        "{'hidden_size': 32, 'dropout': 0.12848839287344987, 'learning_rate': 0.005652625486826798, 'scaler_type': 'standard', 'max_steps': 2000, 'batch_size': 256, 'windows_batch_size': 512, 'random_seed': 18, 'input_size': 25, 'step_size': 5}\n",
        "\n",
        "### NBEATS:\n",
        " {'learning_rate': 0.007920715236497127, 'scaler_type': 'standard', 'max_steps': 500, 'batch_size': 32, 'windows_batch_size': 256, 'random_seed': 1, 'input_size': 15, 'step_size': 5}\n",
        "\n",
        "### LSTM:\n",
        "AFTER: 7 TRIALS\n",
        "\n",
        "h 5\tencoder_hidden_size\t50 encoder_n_layers 1\tcontext_size 5\tdecoder_hidden_size\t64 learning_rate 0.00019058032335399208\tmax_steps\t1500 batch_size 16\tconfig/loss MAE\trandom_seed 14\tinput_size 20\tinference_input_size -5 valid_loss MAE\n",
        "\n",
        "### DeepAR:\n",
        "{'lstm_hidden_size': 64, 'lstm_n_layers': 1, 'lstm_dropout': 0.10130342239364357, 'learning_rate': 0.0010705850229881305, 'scaler_type': 'minmax1', 'max_steps': 2000, 'batch_size': 128, 'windows_batch_size': 128, 'random_seed': 1, 'input_size': 10, 'step_size': 5}\n",
        "\n",
        "### TimesNet:\n",
        "##"
      ]
    },
    {
      "cell_type": "code",
      "source": [
        "# we tune LSTM model with ray backend and we obtain optimization resoluts like this\n",
        "\n",
        "if lstm in models:\n",
        "  results = nf.models[0].results.get_dataframe()\n",
        "  results.to_csv('res.csv')"
      ],
      "metadata": {
        "id": "ZCNjj3THQ_U2"
      },
      "execution_count": null,
      "outputs": []
    },
    {
      "cell_type": "code",
      "execution_count": null,
      "metadata": {
        "id": "QgaFh63Z-r6n"
      },
      "outputs": [],
      "source": [
        "# additionaly we can store trained models locally (colab runtime)\n",
        "\n",
        "!mkdir /content/models\n",
        "\n",
        "SAVED_MODELS_PATH = '/content/models'\n",
        "\n",
        "nf.save(SAVED_MODELS_PATH)"
      ]
    }
  ],
  "metadata": {
    "accelerator": "GPU",
    "colab": {
      "gpuType": "T4",
      "provenance": []
    },
    "kernelspec": {
      "display_name": "Python 3",
      "name": "python3"
    },
    "language_info": {
      "name": "python"
    }
  },
  "nbformat": 4,
  "nbformat_minor": 0
}